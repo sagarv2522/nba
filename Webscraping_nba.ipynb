{
 "cells": [
  {
   "cell_type": "markdown",
   "id": "1e51ffc1-478c-4fc7-a6d9-600797dddfa6",
   "metadata": {},
   "source": [
    "# **Webscraping of NBA Players from website 🏀⛹️**"
   ]
  },
  {
   "cell_type": "code",
   "execution_count": null,
   "id": "1c2ed642-ed4c-49eb-a2ec-cb48fe733e65",
   "metadata": {
    "tags": []
   },
   "outputs": [],
   "source": [
    "#requried packages for process\n",
    "\n",
    "import pandas as pd\n",
    "import requests\n",
    "from bs4 import BeautifulSoup\n",
    "from selenium import webdriver\n",
    "import os"
   ]
  },
  {
   "cell_type": "markdown",
   "id": "930719a2-03fb-4c3d-b55c-6b1a18135df4",
   "metadata": {},
   "source": [
    "## Scraping a NBA Players MVP data's"
   ]
  },
  {
   "cell_type": "code",
   "execution_count": null,
   "id": "620692dd-8c0c-44ad-9145-d52d4bbeb4d3",
   "metadata": {
    "tags": []
   },
   "outputs": [],
   "source": [
    "#definig a url for the webpage\n",
    "url_start=\"https://www.basketball-reference.com/awards/awards_{}.html\"\n",
    "\n",
    "#creat a list of years from 1991 to 2023\n",
    "years=list(range(1991, 2024))\n",
    "\n",
    "#initiate a loop for write a html file from web\n",
    "for year in years:\n",
    "    url_mvps=url_start.format(year)\n",
    "    data=requests.get(url_mvps)\n",
    "    with open('mvps/{}.html'.format(year), 'w', encoding='utf-8') as f:\n",
    "        f.write(data.text)"
   ]
  },
  {
   "cell_type": "markdown",
   "id": "99f3a44e-ff71-4892-9caf-70dadd98487d",
   "metadata": {},
   "source": [
    "**Note:** The above code should be run for once, if you run the code for multiple times then the file get *error*. After a cerain period time we can able to fetch the file data."
   ]
  },
  {
   "cell_type": "code",
   "execution_count": null,
   "id": "175b23db-8039-4ce7-af82-03aaaafad81e",
   "metadata": {
    "tags": []
   },
   "outputs": [],
   "source": [
    "#converting a html file data into structured data with beautifulsoup\n",
    "df=[]\n",
    "\n",
    "#initiate a loop to read\n",
    "for year in years:\n",
    "    with open('mvps/{}.html'.format(year), 'r', encoding='utf-8') as f:\n",
    "        page=f.read()\n",
    "    \n",
    "    #initiating a soup function\n",
    "    soup=BeautifulSoup(page, 'html.parser')\n",
    "    soup.find('tr', class_='over_header').decompose()\n",
    "    mvp_table=soup.find(id='mvp')\n",
    "    mvp= pd.read_html(str(mvp_table))[0]\n",
    "    mvp['year']=year\n",
    "    df.append(mvp)"
   ]
  },
  {
   "cell_type": "code",
   "execution_count": null,
   "id": "d43e5e8d-d93a-4189-90bd-6ff0c015a479",
   "metadata": {
    "tags": []
   },
   "outputs": [],
   "source": [
    "#to convert a data into a pandas dataframe\n",
    "mvps=pd.concat(df)\n",
    "mvps.head()\n",
    "\n",
    "#to store it as a csv file\n",
    "mvps.to_csv('mvp.csv')"
   ]
  },
  {
   "cell_type": "markdown",
   "id": "2b60cf4a-03e2-450f-a38f-760d8382c706",
   "metadata": {
    "tags": []
   },
   "source": [
    "## Scraping a NBA Players Player Statistics 📈 data"
   ]
  },
  {
   "cell_type": "markdown",
   "id": "31d1d658-dd15-464d-a008-9d73bc99e906",
   "metadata": {},
   "source": [
    "For this section we are going to use a automatic scraping for a long scraping with the help of selenium."
   ]
  },
  {
   "cell_type": "code",
   "execution_count": null,
   "id": "989f5367-3891-4c57-9d3c-a59cf5063efb",
   "metadata": {
    "tags": []
   },
   "outputs": [],
   "source": [
    "# define a url link for a player stats\n",
    "player_stats_url=\"https://www.basketball-reference.com/leagues/NBA_{}_per_game.html\"\n",
    "\n",
    "Specify the path to the Microsoft Edge WebDriver executable\n",
    "edge_driver_path = r\"D:\\Downloads\\edgedriver_win64\\msedgedriver.exe\"\n",
    "\n",
    "# Set the 'webdriver.edge.driver' environment variable to the driver path\n",
    "os.environ['webdriver.edge.driver'] = edge_driver_path\n",
    "\n",
    "# Create a WebDriver instance for Microsoft Edge\n",
    "driver = webdriver.Edge()"
   ]
  },
  {
   "cell_type": "markdown",
   "id": "596380fc-84e5-496d-b585-9be9c8dbb018",
   "metadata": {},
   "source": [
    "**Note:** The above path differes from every individual PC's or Laptop. For the \"msedgedriver.exe\" file download link is [here](https://developer.microsoft.com/en-us/microsoft-edge/tools/webdriver/)"
   ]
  },
  {
   "cell_type": "code",
   "execution_count": null,
   "id": "be7f0d82-4668-4594-abed-ae933deecea3",
   "metadata": {
    "tags": []
   },
   "outputs": [],
   "source": [
    "# Now, you can use the 'driver' instance for web automation with Microsoft Edge.\n",
    "\n",
    "import time\n",
    "for year in years:\n",
    "    url=player_stats_url.format(year)\n",
    "    driver.get(url)\n",
    "    driver.execute_script(\"window.scrollTo(1,10000)\")\n",
    "    time.sleep(2)\n",
    "\n",
    "    html =driver.page_source\n",
    "    with open('players_stats/{}.html'.format(year), 'w', encoding='utf-8') as f:\n",
    "        f.write(html)"
   ]
  },
  {
   "cell_type": "code",
   "execution_count": null,
   "id": "9cf53fc3-6877-41cf-8f0b-c3ab50d80e15",
   "metadata": {
    "tags": []
   },
   "outputs": [],
   "source": [
    "df=[]\n",
    "\n",
    "#initiate a loop\n",
    "for year in years:\n",
    "    with open('players_stats/{}.html'.format(year), 'r', encoding='utf-8') as f:\n",
    "        page=f.read()\n",
    "    soup = BeautifulSoup(page, \"html.parser\")\n",
    "    soup.find('tr', class_='thead').decompose()\n",
    "    player_table = soup.find(id='per_game_stats')\n",
    "    player = pd.read_html(str(player_table))[0]\n",
    "    player['year']=year\n",
    "    df.append(player)\n",
    "    \n",
    "    \n",
    "players=pd.concat(df)\n",
    "players.head()\n",
    "\n",
    "#to save a player as a csv file\n",
    "players.to_csv('player.csv')"
   ]
  },
  {
   "cell_type": "markdown",
   "id": "d8b1e385-e34b-478f-a843-cc108287b31c",
   "metadata": {},
   "source": [
    "## Scraping a NBA Players team Statistics 📈 data"
   ]
  },
  {
   "cell_type": "code",
   "execution_count": null,
   "id": "56cde92a-bacb-4429-9a83-63cd08b57d4d",
   "metadata": {
    "tags": []
   },
   "outputs": [],
   "source": [
    "team_stats_url = \"https://www.basketball-reference.com/leagues/NBA_{}_standings.html\"\n",
    "\n",
    "#initiate a loop\n",
    "for year in years:\n",
    "    url = team_stats_url.format(year)\n",
    "    data=requests.get(url)\n",
    "    with open(\"teams_stats/{}.html\".format(year), 'w', encoding='utf-8') as f:\n",
    "        f.write(data.text)"
   ]
  },
  {
   "cell_type": "code",
   "execution_count": null,
   "id": "2b485228-27b6-42d3-b1c2-3ce90c18c88c",
   "metadata": {
    "tags": []
   },
   "outputs": [],
   "source": [
    "df=[]\n",
    "\n",
    "#to initiate a loop for a data read\n",
    "for year in range(1991,2024):\n",
    "    with open('teams_stats/{}.html'.format(year), 'r', encoding='utf-8') as f:\n",
    "        page=f.read()\n",
    "    soup = BeautifulSoup(page, \"html.parser\")\n",
    "    soup.find('tr', class_='thead').decompose()\n",
    "    team_table = soup.find(id='divs_standings_E')\n",
    "    team = pd.read_html(str(team_table))[0]\n",
    "    team['year']=year\n",
    "    team['Team']=team['Eastern Conference']\n",
    "    del team['Eastern Conference']\n",
    "    df.append(team)\n",
    "    \n",
    "    soup = BeautifulSoup(page, \"html.parser\")\n",
    "    soup.find('tr', class_='thead').decompose()\n",
    "    team_table = soup.find(id='divs_standings_W')\n",
    "    team = pd.read_html(str(team_table))[0]\n",
    "    team['year']=year\n",
    "    team['Team']=team['Western Conference']\n",
    "    del team['Western Conference']\n",
    "    df.append(team)\n",
    "    \n",
    "team=pd.concat(df)\n",
    "team"
   ]
  },
  {
   "cell_type": "code",
   "execution_count": null,
   "id": "70334ed6-fcd2-49b9-af90-5b220acd63a9",
   "metadata": {},
   "outputs": [],
   "source": [
    "# to store as a csv file\n",
    "team.to_csv('teams.csv')"
   ]
  }
 ],
 "metadata": {
  "kernelspec": {
   "display_name": "Python 3 (ipykernel)",
   "language": "python",
   "name": "python3"
  },
  "language_info": {
   "codemirror_mode": {
    "name": "ipython",
    "version": 3
   },
   "file_extension": ".py",
   "mimetype": "text/x-python",
   "name": "python",
   "nbconvert_exporter": "python",
   "pygments_lexer": "ipython3",
   "version": "3.9.13"
  }
 },
 "nbformat": 4,
 "nbformat_minor": 5
}
