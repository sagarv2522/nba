{
 "cells": [
  {
   "cell_type": "markdown",
   "id": "1e51ffc1-478c-4fc7-a6d9-600797dddfa6",
   "metadata": {},
   "source": [
    "# **Webscraping of NBA Players from website 🏀⛹️ Part[1 of 3]**"
   ]
  },
  {
   "cell_type": "code",
   "execution_count": 1,
   "id": "1c2ed642-ed4c-49eb-a2ec-cb48fe733e65",
   "metadata": {
    "tags": []
   },
   "outputs": [],
   "source": [
    "#requried packages for process\n",
    "\n",
    "import pandas as pd\n",
    "import requests\n",
    "from bs4 import BeautifulSoup\n",
    "from selenium import webdriver\n",
    "import os"
   ]
  },
  {
   "cell_type": "markdown",
   "id": "930719a2-03fb-4c3d-b55c-6b1a18135df4",
   "metadata": {},
   "source": [
    "## Scraping a NBA Players MVP data's"
   ]
  },
  {
   "cell_type": "code",
   "execution_count": 2,
   "id": "620692dd-8c0c-44ad-9145-d52d4bbeb4d3",
   "metadata": {
    "tags": []
   },
   "outputs": [],
   "source": [
    "#definig a url for the webpage\n",
    "url_start=\"https://www.basketball-reference.com/awards/awards_{}.html\"\n",
    "\n",
    "#creat a list of years from 1991 to 2023\n",
    "years=list(range(1991, 2024))\n",
    "\n",
    "#initiate a loop for write a html file from web\n",
    "for year in years:\n",
    "    url_mvps=url_start.format(year)\n",
    "    data=requests.get(url_mvps)\n",
    "    with open('mvps/{}.html'.format(year), 'w', encoding='utf-8') as f:\n",
    "        f.write(data.text)"
   ]
  },
  {
   "cell_type": "markdown",
   "id": "99f3a44e-ff71-4892-9caf-70dadd98487d",
   "metadata": {},
   "source": [
    "**Note:** The above code should be run for once, if you run the code for multiple times then the file get *error*. After a certain period time we can able to fetch the file data."
   ]
  },
  {
   "cell_type": "code",
   "execution_count": 3,
   "id": "175b23db-8039-4ce7-af82-03aaaafad81e",
   "metadata": {
    "tags": []
   },
   "outputs": [],
   "source": [
    "#converting a html file data into structured data with beautifulsoup\n",
    "df=[]\n",
    "\n",
    "#initiate a loop to read\n",
    "for year in years:\n",
    "    with open('mvps/{}.html'.format(year), 'r', encoding='utf-8') as f:\n",
    "        page=f.read()\n",
    "    \n",
    "    #initiating a soup function\n",
    "    soup=BeautifulSoup(page, 'html.parser')\n",
    "    soup.find('tr', class_='over_header').decompose()\n",
    "    mvp_table=soup.find(id='mvp')\n",
    "    mvp= pd.read_html(str(mvp_table))[0]\n",
    "    mvp['year']=year\n",
    "    df.append(mvp)"
   ]
  },
  {
   "cell_type": "code",
   "execution_count": 4,
   "id": "d43e5e8d-d93a-4189-90bd-6ff0c015a479",
   "metadata": {
    "tags": []
   },
   "outputs": [],
   "source": [
    "#to convert a data into a pandas dataframe\n",
    "mvps=pd.concat(df)\n",
    "mvps.head()\n",
    "\n",
    "#to store it as a csv file\n",
    "mvps.to_csv('mvp.csv')"
   ]
  },
  {
   "cell_type": "markdown",
   "id": "2b60cf4a-03e2-450f-a38f-760d8382c706",
   "metadata": {
    "tags": []
   },
   "source": [
    "## Scraping a NBA Players Player Statistics 📈 data"
   ]
  },
  {
   "cell_type": "markdown",
   "id": "31d1d658-dd15-464d-a008-9d73bc99e906",
   "metadata": {},
   "source": [
    "For this section we are going to use a automatic scraping for a long scraping with the help of selenium."
   ]
  },
  {
   "cell_type": "code",
   "execution_count": 15,
   "id": "989f5367-3891-4c57-9d3c-a59cf5063efb",
   "metadata": {
    "tags": []
   },
   "outputs": [],
   "source": [
    "import time\n",
    "\n",
    "# Define a URL link for player stats\n",
    "player_stats_url = \"https://www.basketball-reference.com/leagues/NBA_{}_per_game.html\"\n",
    "\n",
    "# Specify the path to the Microsoft Edge WebDriver executable\n",
    "edge_driver_path = r\"F:\\GitHub\\NBA-webscraping\\File(exe)\\msedgedriver.exe\" #change the file path according to your file location\n",
    "\n",
    "# Set the 'webdriver.edge.driver' environment variable to the driver path\n",
    "os.environ['PATH'] += os.pathsep + os.path.dirname(edge_driver_path)\n",
    "\n",
    "# Create a WebDriver instance for Microsoft Edge\n",
    "driver = webdriver.Edge()\n",
    "\n",
    "# Scraping and saving HTML pages\n",
    "for year in years:\n",
    "    url = player_stats_url.format(year)\n",
    "    driver.get(url)\n",
    "    driver.execute_script(\"window.scrollTo(1, 10000)\")\n",
    "    time.sleep(2)\n",
    "\n",
    "    html = driver.page_source\n",
    "    with open('stats_player/{}.html'.format(year), 'w', encoding='utf-8') as f:\n",
    "        f.write(html)\n",
    "\n",
    "# Close the WebDriver\n",
    "driver.quit()"
   ]
  },
  {
   "cell_type": "markdown",
   "id": "596380fc-84e5-496d-b585-9be9c8dbb018",
   "metadata": {},
   "source": [
    "**Note:** The above path differes from every individual PC's or Laptop. For the \"msedgedriver.exe\" file download link is [here](https://developer.microsoft.com/en-us/microsoft-edge/tools/webdriver/)"
   ]
  },
  {
   "cell_type": "code",
   "execution_count": 16,
   "id": "be7f0d82-4668-4594-abed-ae933deecea3",
   "metadata": {
    "tags": []
   },
   "outputs": [],
   "source": [
    "# # Now, you can use the 'driver' instance for web automation with Microsoft Edge.\n",
    "\n",
    "# import time\n",
    "# for year in years:\n",
    "#     url=player_stats_url.format(year)\n",
    "#     driver.get(url)\n",
    "#     driver.execute_script(\"window.scrollTo(1,10000)\")\n",
    "#     time.sleep(2)\n",
    "\n",
    "#     html =driver.page_source\n",
    "#     with open('stats_player/{}.html'.format(year), 'w', encoding='utf-8') as f:\n",
    "#         f.write(html)"
   ]
  },
  {
   "cell_type": "code",
   "execution_count": 17,
   "id": "9cf53fc3-6877-41cf-8f0b-c3ab50d80e15",
   "metadata": {
    "tags": []
   },
   "outputs": [],
   "source": [
    "df=[]\n",
    "\n",
    "#initiate a loop\n",
    "for year in years:\n",
    "    with open('stats_player/{}.html'.format(year), 'r', encoding='utf-8') as f:\n",
    "        page=f.read()\n",
    "    soup = BeautifulSoup(page, \"html.parser\")\n",
    "    soup.find('tr', class_='thead').decompose()\n",
    "    player_table = soup.find(id='per_game_stats')\n",
    "    player = pd.read_html(str(player_table))[0]\n",
    "    player['year']=year\n",
    "    df.append(player)\n",
    "    \n",
    "    \n",
    "players=pd.concat(df)\n",
    "players.head()\n",
    "\n",
    "#to save a player as a csv file\n",
    "players.to_csv('player_d.csv')"
   ]
  },
  {
   "cell_type": "markdown",
   "id": "d8b1e385-e34b-478f-a843-cc108287b31c",
   "metadata": {},
   "source": [
    "## Scraping a NBA Players team Statistics 📈 data"
   ]
  },
  {
   "cell_type": "code",
   "execution_count": 18,
   "id": "56cde92a-bacb-4429-9a83-63cd08b57d4d",
   "metadata": {
    "tags": []
   },
   "outputs": [],
   "source": [
    "team_stats_url = \"https://www.basketball-reference.com/leagues/NBA_{}_standings.html\"\n",
    "\n",
    "#initiate a loop\n",
    "for year in years:\n",
    "    url = team_stats_url.format(year)\n",
    "    data=requests.get(url)\n",
    "    with open(\"teams_stats/{}.html\".format(year), 'w', encoding='utf-8') as f:\n",
    "        f.write(data.text)"
   ]
  },
  {
   "cell_type": "code",
   "execution_count": 19,
   "id": "2b485228-27b6-42d3-b1c2-3ce90c18c88c",
   "metadata": {
    "tags": []
   },
   "outputs": [
    {
     "data": {
      "text/html": [
       "<div>\n",
       "<style scoped>\n",
       "    .dataframe tbody tr th:only-of-type {\n",
       "        vertical-align: middle;\n",
       "    }\n",
       "\n",
       "    .dataframe tbody tr th {\n",
       "        vertical-align: top;\n",
       "    }\n",
       "\n",
       "    .dataframe thead th {\n",
       "        text-align: right;\n",
       "    }\n",
       "</style>\n",
       "<table border=\"1\" class=\"dataframe\">\n",
       "  <thead>\n",
       "    <tr style=\"text-align: right;\">\n",
       "      <th></th>\n",
       "      <th>W</th>\n",
       "      <th>L</th>\n",
       "      <th>W/L%</th>\n",
       "      <th>GB</th>\n",
       "      <th>PS/G</th>\n",
       "      <th>PA/G</th>\n",
       "      <th>SRS</th>\n",
       "      <th>year</th>\n",
       "      <th>Team</th>\n",
       "    </tr>\n",
       "  </thead>\n",
       "  <tbody>\n",
       "    <tr>\n",
       "      <th>0</th>\n",
       "      <td>56</td>\n",
       "      <td>26</td>\n",
       "      <td>.683</td>\n",
       "      <td>—</td>\n",
       "      <td>111.5</td>\n",
       "      <td>105.7</td>\n",
       "      <td>5.22</td>\n",
       "      <td>1991</td>\n",
       "      <td>Boston Celtics*</td>\n",
       "    </tr>\n",
       "    <tr>\n",
       "      <th>1</th>\n",
       "      <td>44</td>\n",
       "      <td>38</td>\n",
       "      <td>.537</td>\n",
       "      <td>12.0</td>\n",
       "      <td>105.4</td>\n",
       "      <td>105.6</td>\n",
       "      <td>-0.39</td>\n",
       "      <td>1991</td>\n",
       "      <td>Philadelphia 76ers*</td>\n",
       "    </tr>\n",
       "    <tr>\n",
       "      <th>2</th>\n",
       "      <td>39</td>\n",
       "      <td>43</td>\n",
       "      <td>.476</td>\n",
       "      <td>17.0</td>\n",
       "      <td>103.1</td>\n",
       "      <td>103.3</td>\n",
       "      <td>-0.43</td>\n",
       "      <td>1991</td>\n",
       "      <td>New York Knicks*</td>\n",
       "    </tr>\n",
       "    <tr>\n",
       "      <th>3</th>\n",
       "      <td>30</td>\n",
       "      <td>52</td>\n",
       "      <td>.366</td>\n",
       "      <td>26.0</td>\n",
       "      <td>101.4</td>\n",
       "      <td>106.4</td>\n",
       "      <td>-4.84</td>\n",
       "      <td>1991</td>\n",
       "      <td>Washington Bullets</td>\n",
       "    </tr>\n",
       "    <tr>\n",
       "      <th>4</th>\n",
       "      <td>26</td>\n",
       "      <td>56</td>\n",
       "      <td>.317</td>\n",
       "      <td>30.0</td>\n",
       "      <td>102.9</td>\n",
       "      <td>107.5</td>\n",
       "      <td>-4.53</td>\n",
       "      <td>1991</td>\n",
       "      <td>New Jersey Nets</td>\n",
       "    </tr>\n",
       "    <tr>\n",
       "      <th>...</th>\n",
       "      <td>...</td>\n",
       "      <td>...</td>\n",
       "      <td>...</td>\n",
       "      <td>...</td>\n",
       "      <td>...</td>\n",
       "      <td>...</td>\n",
       "      <td>...</td>\n",
       "      <td>...</td>\n",
       "      <td>...</td>\n",
       "    </tr>\n",
       "    <tr>\n",
       "      <th>13</th>\n",
       "      <td>51</td>\n",
       "      <td>31</td>\n",
       "      <td>.622</td>\n",
       "      <td>—</td>\n",
       "      <td>116.9</td>\n",
       "      <td>113.0</td>\n",
       "      <td>3.60</td>\n",
       "      <td>2023</td>\n",
       "      <td>Memphis Grizzlies*</td>\n",
       "    </tr>\n",
       "    <tr>\n",
       "      <th>14</th>\n",
       "      <td>42</td>\n",
       "      <td>40</td>\n",
       "      <td>.512</td>\n",
       "      <td>9.0</td>\n",
       "      <td>114.4</td>\n",
       "      <td>112.5</td>\n",
       "      <td>1.63</td>\n",
       "      <td>2023</td>\n",
       "      <td>New Orleans Pelicans*</td>\n",
       "    </tr>\n",
       "    <tr>\n",
       "      <th>15</th>\n",
       "      <td>38</td>\n",
       "      <td>44</td>\n",
       "      <td>.463</td>\n",
       "      <td>13.0</td>\n",
       "      <td>114.2</td>\n",
       "      <td>114.1</td>\n",
       "      <td>-0.14</td>\n",
       "      <td>2023</td>\n",
       "      <td>Dallas Mavericks</td>\n",
       "    </tr>\n",
       "    <tr>\n",
       "      <th>16</th>\n",
       "      <td>22</td>\n",
       "      <td>60</td>\n",
       "      <td>.268</td>\n",
       "      <td>29.0</td>\n",
       "      <td>110.7</td>\n",
       "      <td>118.6</td>\n",
       "      <td>-7.62</td>\n",
       "      <td>2023</td>\n",
       "      <td>Houston Rockets</td>\n",
       "    </tr>\n",
       "    <tr>\n",
       "      <th>17</th>\n",
       "      <td>22</td>\n",
       "      <td>60</td>\n",
       "      <td>.268</td>\n",
       "      <td>29.0</td>\n",
       "      <td>113.0</td>\n",
       "      <td>123.1</td>\n",
       "      <td>-9.82</td>\n",
       "      <td>2023</td>\n",
       "      <td>San Antonio Spurs</td>\n",
       "    </tr>\n",
       "  </tbody>\n",
       "</table>\n",
       "<p>1103 rows × 9 columns</p>\n",
       "</div>"
      ],
      "text/plain": [
       "     W   L  W/L%    GB   PS/G   PA/G    SRS  year                   Team\n",
       "0   56  26  .683     —  111.5  105.7   5.22  1991        Boston Celtics*\n",
       "1   44  38  .537  12.0  105.4  105.6  -0.39  1991    Philadelphia 76ers*\n",
       "2   39  43  .476  17.0  103.1  103.3  -0.43  1991       New York Knicks*\n",
       "3   30  52  .366  26.0  101.4  106.4  -4.84  1991     Washington Bullets\n",
       "4   26  56  .317  30.0  102.9  107.5  -4.53  1991        New Jersey Nets\n",
       "..  ..  ..   ...   ...    ...    ...    ...   ...                    ...\n",
       "13  51  31  .622     —  116.9  113.0   3.60  2023     Memphis Grizzlies*\n",
       "14  42  40  .512   9.0  114.4  112.5   1.63  2023  New Orleans Pelicans*\n",
       "15  38  44  .463  13.0  114.2  114.1  -0.14  2023       Dallas Mavericks\n",
       "16  22  60  .268  29.0  110.7  118.6  -7.62  2023        Houston Rockets\n",
       "17  22  60  .268  29.0  113.0  123.1  -9.82  2023      San Antonio Spurs\n",
       "\n",
       "[1103 rows x 9 columns]"
      ]
     },
     "execution_count": 19,
     "metadata": {},
     "output_type": "execute_result"
    }
   ],
   "source": [
    "df=[]\n",
    "\n",
    "#to initiate a loop for a data read\n",
    "for year in range(1991,2024):\n",
    "    with open('teams_stats/{}.html'.format(year), 'r', encoding='utf-8') as f:\n",
    "        page=f.read()\n",
    "    soup = BeautifulSoup(page, \"html.parser\")\n",
    "    soup.find('tr', class_='thead').decompose()\n",
    "    team_table = soup.find(id='divs_standings_E')\n",
    "    team = pd.read_html(str(team_table))[0]\n",
    "    team['year']=year\n",
    "    team['Team']=team['Eastern Conference']\n",
    "    del team['Eastern Conference']\n",
    "    df.append(team)\n",
    "    \n",
    "    soup = BeautifulSoup(page, \"html.parser\")\n",
    "    soup.find('tr', class_='thead').decompose()\n",
    "    team_table = soup.find(id='divs_standings_W')\n",
    "    team = pd.read_html(str(team_table))[0]\n",
    "    team['year']=year\n",
    "    team['Team']=team['Western Conference']\n",
    "    del team['Western Conference']\n",
    "    df.append(team)\n",
    "    \n",
    "team=pd.concat(df)\n",
    "team"
   ]
  },
  {
   "cell_type": "code",
   "execution_count": 20,
   "id": "70334ed6-fcd2-49b9-af90-5b220acd63a9",
   "metadata": {},
   "outputs": [],
   "source": [
    "# to store as a csv file\n",
    "team.to_csv('teams_d.csv')"
   ]
  }
 ],
 "metadata": {
  "kernelspec": {
   "display_name": "Python 3 (ipykernel)",
   "language": "python",
   "name": "python3"
  },
  "language_info": {
   "codemirror_mode": {
    "name": "ipython",
    "version": 3
   },
   "file_extension": ".py",
   "mimetype": "text/x-python",
   "name": "python",
   "nbconvert_exporter": "python",
   "pygments_lexer": "ipython3",
   "version": "3.9.13"
  }
 },
 "nbformat": 4,
 "nbformat_minor": 5
}
